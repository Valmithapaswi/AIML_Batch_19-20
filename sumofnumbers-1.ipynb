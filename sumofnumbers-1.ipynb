{
 "cells": [
  {
   "cell_type": "code",
   "execution_count": null,
   "metadata": {},
   "outputs": [],
   "source": [
    "number 1 = 67\n",
    "number 2 = 56\n",
    "number 3 = 48\n",
    "\n",
    "sum_of_numbers = num1 + num2 + num3\n",
    "\n",
    "print(\"The sum of 3 numbers is :\",sum_of_numbers)\n"
   ]
  }
 ],
 "metadata": {
  "language_info": {
   "name": "python"
  }
 },
 "nbformat": 4,
 "nbformat_minor": 2
}
